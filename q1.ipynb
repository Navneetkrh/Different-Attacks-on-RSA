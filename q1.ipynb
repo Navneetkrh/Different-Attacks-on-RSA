{
 "cells": [
  {
   "cell_type": "markdown",
   "metadata": {},
   "source": [
    "1. A message “m” is encrypted using textbook RSA algorithm with 3 different modulus but\n",
    "the same encryption exponents, correspondingly generating 3 ciphertexts. Now, using the\n",
    "three ciphertext and the associated public keys, design an algorithm to obtain the original message “m”.\n",
    "\n",
    "The ciphertexts and their corresponding public keys are provided in the attached excel\n",
    "sheet. For instance - Ciphertext C1 is generated using e = K1[0] and n = K1[1].\n",
    "The report should clearly highlight the obtained message “m”."
   ]
  },
  {
   "cell_type": "code",
   "execution_count": 3,
   "metadata": {},
   "outputs": [],
   "source": [
    "k1=[3, 11905759]\n",
    "k2=[3, 2963659]\n",
    "k3=[3, 12635071]\n",
    "\n",
    "c1=3802241\n",
    "c2=647960\n",
    "c3=3547994\n"
   ]
  },
  {
   "cell_type": "markdown",
   "metadata": {},
   "source": [
    "I took a reference from the following link to solve this problem:\n",
    "https://crypto.stackexchange.com/questions/6713/low-public-exponent-attack-for-rsa"
   ]
  },
  {
   "cell_type": "code",
   "execution_count": 4,
   "metadata": {},
   "outputs": [
    {
     "name": "stdout",
     "output_type": "stream",
     "text": [
      "1\n",
      "1\n",
      "1\n"
     ]
    }
   ],
   "source": [
    "# check pairwise coprimality of the moduli\n",
    "from math import gcd\n",
    "print(gcd(k1[1], k2[1]))\n",
    "print(gcd(k1[1], k3[1]))\n",
    "print(gcd(k2[1], k3[1]))"
   ]
  },
  {
   "cell_type": "code",
   "execution_count": 5,
   "metadata": {},
   "outputs": [],
   "source": [
    "n1, n2, n3 = k1[1], k2[1], k3[1]\n",
    "e=3\n"
   ]
  },
  {
   "attachments": {
    "image.png": {
     "image/png": "[encoded data removed]"
    }
   },
   "cell_type": "markdown",
   "metadata": {},
   "source": [
    "![image.png](attachment:image.png)"
   ]
  },
  {
   "cell_type": "code",
   "execution_count": 15,
   "metadata": {},
   "outputs": [
    {
     "name": "stdout",
     "output_type": "stream",
     "text": [
      "6263\n"
     ]
    }
   ],
   "source": [
    "import sympy\n",
    "\n",
    "def attack(e,n1,n2,n3,c1,c2,c3):\n",
    "    # calculating the intermediates\n",
    "    N1=n2*n3\n",
    "    N2=n1*n3\n",
    "    N3=n1*n2\n",
    "    N=n1*n2*n3\n",
    "    # calculate the inverses\n",
    "    inv1 = sympy.mod_inverse(N1, n1)\n",
    "    inv2 = sympy.mod_inverse(N2, n2)\n",
    "    inv3 = sympy.mod_inverse(N3, n3)\n",
    "    \n",
    "    t1=c1*N1*inv1\n",
    "    t2=c2*N2*inv2\n",
    "    t3=c3*N3*inv3\n",
    "    c=(t1+t2+t3)%N\n",
    "    \n",
    "    # find the e-th root\n",
    "    m = sympy.root(c, e)\n",
    "    return m\n",
    "\n",
    "m = attack(e,n1,n2,n3,c1,c2,c3)\n",
    "print(m)\n",
    "\n",
    "\n",
    "\n",
    "    "
   ]
  },
  {
   "cell_type": "markdown",
   "metadata": {},
   "source": [
    "#### Verifying the solution:"
   ]
  },
  {
   "cell_type": "code",
   "execution_count": 17,
   "metadata": {},
   "outputs": [
    {
     "name": "stdout",
     "output_type": "stream",
     "text": [
      "3802241 647960 3547994\n",
      "Attack successful\n"
     ]
    }
   ],
   "source": [
    "c1_=pow(m,e,n1)\n",
    "c2_=pow(m,e,n2)\n",
    "c3_=pow(m,e,n3)\n",
    "\n",
    "print(c1_, c2_, c3_)\n",
    "\n",
    "if c1_== c1 and c2_==c2 and c3_==c3:\n",
    "    print(\"Attack successful\")\n"
   ]
  }
 ],
 "metadata": {
  "kernelspec": {
   "display_name": "Python 3",
   "language": "python",
   "name": "python3"
  },
  "language_info": {
   "codemirror_mode": {
    "name": "ipython",
    "version": 3
   },
   "file_extension": ".py",
   "mimetype": "text/x-python",
   "name": "python",
   "nbconvert_exporter": "python",
   "pygments_lexer": "ipython3",
   "version": "3.11.2"
  }
 },
 "nbformat": 4,
 "nbformat_minor": 2
}
