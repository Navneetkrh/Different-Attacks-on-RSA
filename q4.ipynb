{
 "cells": [
  {
   "cell_type": "code",
   "execution_count": 385,
   "metadata": {},
   "outputs": [],
   "source": [
    "m=51\n",
    "e=3\n",
    "p=1973\n",
    "q=1013"
   ]
  },
  {
   "cell_type": "markdown",
   "metadata": {},
   "source": [
    "### 4. Follow the underlying steps"
   ]
  },
  {
   "cell_type": "markdown",
   "metadata": {},
   "source": [
    "a. Encrypt message \"m\" using the textbook RSA algorithm to generate ciphertext\n",
    "“x”. And values for message “m”, public encryption exponent “e” and the prime\n",
    "numbers “p” & “q” are mentioned in the Excel sheet for RSA algorithm.\n"
   ]
  },
  {
   "cell_type": "code",
   "execution_count": 386,
   "metadata": {},
   "outputs": [
    {
     "name": "stdout",
     "output_type": "stream",
     "text": [
      "132651\n"
     ]
    }
   ],
   "source": [
    "import sympy\n",
    "\n",
    "n=p*q\n",
    "phi=(p-1)*(q-1)\n",
    "x=pow(m,e,n)\n",
    "print(x)"
   ]
  },
  {
   "cell_type": "markdown",
   "metadata": {},
   "source": [
    "b. Determine the private key.\n"
   ]
  },
  {
   "cell_type": "code",
   "execution_count": 387,
   "metadata": {},
   "outputs": [
    {
     "name": "stdout",
     "output_type": "stream",
     "text": [
      "1330443\n"
     ]
    }
   ],
   "source": [
    "d=sympy.mod_inverse(e,phi)\n",
    "print(d)"
   ]
  },
  {
   "cell_type": "markdown",
   "metadata": {},
   "source": [
    "c. Design a parity oracle that accepts a ciphertext and decrypts it using the private\n",
    "key. The oracle then returns a boolean value to indicate the parity of the last bit of\n",
    "the plaintext. For instance, if the last bit is odd then the parity oracle returns\n",
    "“True” else “False”.\n"
   ]
  },
  {
   "cell_type": "code",
   "execution_count": 388,
   "metadata": {},
   "outputs": [
    {
     "name": "stdout",
     "output_type": "stream",
     "text": [
      "1\n"
     ]
    }
   ],
   "source": [
    "def parity_oracle(c,):\n",
    "\n",
    "    decryp = pow(c,d,n)\n",
    "    # print(decryp)\n",
    "    # if last bit odd return True else False\n",
    "    return decryp%2\n",
    "    \n",
    "\n",
    "print(parity_oracle(x))"
   ]
  },
  {
   "cell_type": "markdown",
   "metadata": {},
   "source": [
    "Your task is to obtain the message \"m\" from ciphertext “x” using parity oracle only. Write\n",
    "proper code to show the results"
   ]
  },
  {
   "cell_type": "code",
   "execution_count": 396,
   "metadata": {},
   "outputs": [
    {
     "name": "stdout",
     "output_type": "stream",
     "text": [
      "Decrypted message after attack using parity oracle:\n",
      "51\n"
     ]
    }
   ],
   "source": [
    "import math\n",
    "\n",
    "cyphertext=x\n",
    "upper_bound=n\n",
    "lower_bound=0\n",
    "\n",
    "# binary search\n",
    "while (upper_bound-lower_bound)>1:\n",
    "    mid = (upper_bound+lower_bound)/2 \n",
    "    cyphertext = (cyphertext * pow(2,e,n))%n\n",
    "    if parity_oracle(cyphertext)==0:\n",
    "        upper_bound = mid\n",
    "    else:\n",
    "        lower_bound = mid\n",
    "print(\"Decrypted message after attack using parity oracle:\")\n",
    "print(int(upper_bound))"
   ]
  }
 ],
 "metadata": {
  "kernelspec": {
   "display_name": "Python 3",
   "language": "python",
   "name": "python3"
  },
  "language_info": {
   "codemirror_mode": {
    "name": "ipython",
    "version": 3
   },
   "file_extension": ".py",
   "mimetype": "text/x-python",
   "name": "python",
   "nbconvert_exporter": "python",
   "pygments_lexer": "ipython3",
   "version": "3.11.2"
  }
 },
 "nbformat": 4,
 "nbformat_minor": 2
}
