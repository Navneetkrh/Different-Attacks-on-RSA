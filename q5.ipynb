{
 "cells": [
  {
   "cell_type": "markdown",
   "metadata": {},
   "source": [
    "### 5. \n",
    "Refer to the Bleichenbacher's attack as mentioned in paper title \"Chosen Ciphertext Attacks Against Protocols Based on the RSA Encryption Standard PKCS #1\". Follow the underlying steps:"
   ]
  },
  {
   "cell_type": "markdown",
   "metadata": {},
   "source": [
    "\n",
    "a. Generate RSA key pairs, where the public key encryption exponent “e” should be\n",
    "3. And consider the message “m” to be your roll number (all small letters). For eg\n",
    "- \"p21cs011\".\n",
    "p and q should be 128 bit prime numbers.\n"
   ]
  },
  {
   "cell_type": "code",
   "execution_count": 59,
   "metadata": {},
   "outputs": [],
   "source": [
    "from sympy import isprime\n",
    "import random\n",
    "def randomPrimeGen(n):\n",
    "    p=\"\"\n",
    "    for i in range(3*n*n):\n",
    "        p=\"1\"\n",
    "        # random string of 1s and 0s of length n-1\n",
    "        p+=format(random.getrandbits(n-1),'0b')\n",
    "        if(isprime(int(p,2))):\n",
    "            return p\n",
    "    return False\n",
    "def GenModulus(n):\n",
    "    p=randomPrimeGen(n)\n",
    "    q=randomPrimeGen(n)\n",
    "    while(p==q):\n",
    "        q=randomPrimeGen(n)\n",
    "    return int(p,2)*int(q,2),int(p,2),int(q,2)\n",
    "\n"
   ]
  },
  {
   "cell_type": "code",
   "execution_count": 60,
   "metadata": {},
   "outputs": [
    {
     "name": "stdout",
     "output_type": "stream",
     "text": [
      "phi= 10516111741933424577934926587176972827843524495200932610221056429934113416444\n",
      "The output in base10 is:\n",
      "N= 10516111741933424577934926587176972828059331690545005064476200398200880115069\n",
      "e= 3\n",
      "d= 7010741161288949718623284391451315218562349663467288406814037619956075610963\n"
     ]
    }
   ],
   "source": [
    "from sympy import gcd\n",
    "import random\n",
    "def GenRSA(n):\n",
    "    N,p,q=GenModulus(n)\n",
    "    phi=(p-1)*(q-1)\n",
    "\n",
    "    e=3 #GIVEN\n",
    "    g = gcd(e, phi)\n",
    "    while g != 1:\n",
    "        # e = random.randrange(1, phi)\n",
    "        \n",
    "        N,p,q=GenModulus(n)\n",
    "        phi=(p-1)*(q-1)\n",
    "        g = gcd(e, phi)\n",
    "    \n",
    "    d = pow(e, -1, phi)\n",
    "    print(\"phi=\",phi)\n",
    "    return N,e,d\n",
    "\n",
    "N,e,d=GenRSA(128)\n",
    "print(\"The output in base10 is:\")\n",
    "print(\"N=\",N)\n",
    "print(\"e=\",e)\n",
    "print(\"d=\",d)\n",
    "\n",
    "        "
   ]
  },
  {
   "cell_type": "markdown",
   "metadata": {},
   "source": [
    "b. Encrypt the message “m” using the RSA algorithm with PKCS1.5 padding to\n",
    "obtain ciphertext “x” (Inbuilt libraries support automatic message conversion\n",
    "followed by encryption). You can use any cryptographic hashing function for the\n",
    "same.\n"
   ]
  },
  {
   "cell_type": "code",
   "execution_count": 61,
   "metadata": {},
   "outputs": [
    {
     "name": "stdout",
     "output_type": "stream",
     "text": [
      "the padded message is: b\"\\x00\\x02\\xff\\xff\\xff\\xff\\xff\\xff\\xff\\xff\\x00\\x14|\\xc9\\xeb;\\x9e\\x97\\xb0\\x8e\\xe9$\\x03\\xc6'\\xd4\\x7f\\xb4\\x1bR\\xe1`\"\n"
     ]
    }
   ],
   "source": [
    "import hashlib\n",
    "import os\n",
    "#here key_size is taken in BYTES (not bits)(32 bytes=256 bits)\n",
    "def pkcs1_v1_5_pad(message, key_size):\n",
    "\n",
    "    hash = hashlib.sha1(message).digest()\n",
    "\n",
    "\n",
    "    # Create the ASN.1 prefix for SHA-1 add only lenght included here\n",
    "    asn1 = len(hash)\n",
    "    asn1=asn1.to_bytes(asn1.bit_length()//8+1, byteorder='big')\n",
    "\n",
    "    \n",
    "    # Calculate the number of padding bytes needed\n",
    "    padding_length = key_size - len(asn1) - len(hash) - 3\n",
    "\n",
    "  \n",
    "    padding = b'\\xff' * padding_length\n",
    "\n",
    " \n",
    "    padded_message = b'\\x00\\x02' + padding + b'\\x00' + asn1 + hash \n",
    "   \n",
    "\n",
    "    return padded_message\n",
    "\n",
    "M='b21cs50'\n",
    "M=M.encode()\n",
    "print(\"the padded message is:\",pkcs1_v1_5_pad(M,32))"
   ]
  },
  {
   "cell_type": "code",
   "execution_count": 62,
   "metadata": {},
   "outputs": [
    {
     "name": "stdout",
     "output_type": "stream",
     "text": [
      "The encrypted message is:\n",
      "b'A/vn0QXXyh6x0xAPnu4rKS3DLvCi8fNUrO4zzK9gshg='\n"
     ]
    }
   ],
   "source": [
    "import base64\n",
    "def pad_and_encrypt(M,public_key):\n",
    "    M=M.encode()\n",
    "    M_bytes=pkcs1_v1_5_pad(M, 32)\n",
    "    M=int.from_bytes(M_bytes, byteorder='big')\n",
    "\n",
    "    N,e=public_key\n",
    "    signed_decimal=pow(M,e,N)\n",
    "\n",
    "\n",
    "\n",
    "    signed_bytes=signed_decimal.to_bytes((signed_decimal.bit_length() + 7) // 8, 'big')\n",
    "\n",
    "    signed_base64=base64.b64encode(signed_bytes)\n",
    "    return signed_base64\n",
    "\n",
    "M='b21cs050'\n",
    "\n",
    "encrypted=pad_and_encrypt(M,(N,e))\n",
    "print(\"The encrypted message is:\")\n",
    "print(encrypted)\n",
    "\n"
   ]
  },
  {
   "cell_type": "markdown",
   "metadata": {},
   "source": [
    "c. Design a server (or function) that accepts the ciphertext, decrypts it using the\n",
    "private key and verifies the message (plaintext) has the first two bytes as 00h 01h.\n",
    "The server returns a boolean value indicating the verification results. For instance\n",
    "- If the first two bytes are anything other than 00h 01h, the server responds with\n",
    "“False” value. On the other hand, the server returns “True” value.\n"
   ]
  },
  {
   "cell_type": "code",
   "execution_count": 63,
   "metadata": {},
   "outputs": [],
   "source": [
    "def decrypt(signed_base64,private_key):\n",
    "    signed_bytes=base64.b64decode(signed_base64)\n",
    "    signed_decimal=int.from_bytes(signed_bytes, 'big')\n",
    "    \n",
    "    N,d=private_key\n",
    "    M=pow(signed_decimal,d,N)\n",
    "\n",
    "    M_bytes=M.to_bytes((M.bit_length() + 7) // 8, 'big')\n",
    "    if(len(M_bytes)<32):\n",
    "        M_bytes=bytes(32-len(M_bytes))+M_bytes\n",
    "    return M_bytes\n",
    "\n",
    "\n",
    "def pkcs1_v1_5_verify(padded_message, key_size):\n",
    "    # Check the initial bytes\n",
    "    if padded_message[:2] != b'\\x00\\x02':\n",
    "        return False\n",
    "\n",
    "    \n",
    "    return True\n"
   ]
  },
  {
   "cell_type": "code",
   "execution_count": 64,
   "metadata": {},
   "outputs": [
    {
     "name": "stdout",
     "output_type": "stream",
     "text": [
      "The result of the padding oracle on original signed message is:\n",
      "True\n"
     ]
    }
   ],
   "source": [
    "def padding_oracle(Cyphertext):\n",
    "    \n",
    "    decrypted=decrypt(Cyphertext,(N,d))[:32]\n",
    "\n",
    "    veri=pkcs1_v1_5_verify(decrypted, 32)\n",
    "    return veri\n",
    "\n",
    "print(\"The result of the padding oracle on original signed message is:\")\n",
    "\n",
    "result=padding_oracle(encrypted) \n",
    "print(result)"
   ]
  },
  {
   "cell_type": "code",
   "execution_count": 65,
   "metadata": {},
   "outputs": [],
   "source": [
    "def base64_to_decimal_multiply_bytes(signed_base64,num):\n",
    "    signed_bytes=base64.b64decode(signed_base64)\n",
    "    signed_decimal=int.from_bytes(signed_bytes, 'big')\n",
    "    signed_decimal=((signed_decimal%N)*(num%N))%N\n",
    "    signed_bytes=signed_decimal.to_bytes((signed_decimal.bit_length() + 7) // 8, 'big')\n",
    "    signed_base64=base64.b64encode(signed_bytes)\n",
    "    return signed_base64\n",
    "\n"
   ]
  },
  {
   "cell_type": "markdown",
   "metadata": {},
   "source": [
    "Your task is to decrypt the ciphertext “x” using the server defined in this question\n",
    "following the Bleichenbacher's attack."
   ]
  },
  {
   "cell_type": "code",
   "execution_count": 66,
   "metadata": {},
   "outputs": [
    {
     "name": "stdout",
     "output_type": "stream",
     "text": [
      "The value of B is: 1766847064778384329583297500742918515827483896875618958121606201292619776\n",
      "length of B in bytes is: 31\n",
      "The value of B is: b'\\x00\\x01\\x00\\x00\\x00\\x00\\x00\\x00\\x00\\x00\\x00\\x00\\x00\\x00\\x00\\x00\\x00\\x00\\x00\\x00\\x00\\x00\\x00\\x00\\x00\\x00\\x00\\x00\\x00\\x00\\x00\\x00'\n",
      "length of B in bytes is: 32\n"
     ]
    },
    {
     "name": "stdout",
     "output_type": "stream",
     "text": [
      "The value of s is: 43648\n",
      "0002045a02cdc4d05f83b61581d573f659f3ca90093378924e865dd0a0779bc2\n"
     ]
    }
   ],
   "source": [
    "# from math import ceil\n",
    "# # Bleichenbacher's attack\n",
    "k=32\n",
    "B=(2**(256-16))\n",
    "B_bytes=B.to_bytes((B.bit_length() + 7) // 8, 'big')\n",
    "print(\"The value of B is:\",B)\n",
    "print(\"length of B in bytes is:\",len(B_bytes))\n",
    "B_bytes=bytes(32-len(B_bytes))+B_bytes\n",
    "print(\"The value of B is:\",B_bytes)\n",
    "print(\"length of B in bytes is:\",len(B_bytes))\n",
    "\n",
    "\n",
    "\n",
    "s=2;\n",
    "\n",
    "while padding_oracle(base64_to_decimal_multiply_bytes(encrypted,pow(s,e,N)))==False:\n",
    "    \n",
    "    s+=1\n",
    "print(\"The value of s is:\",s)\n",
    "print(decrypt(base64_to_decimal_multiply_bytes(encrypted,pow(s,e,N)),(N,d)).hex())\n",
    "\n",
    "\n",
    "\n"
   ]
  },
  {
   "cell_type": "code",
   "execution_count": 67,
   "metadata": {},
   "outputs": [],
   "source": [
    "import math\n",
    "def ceil(a,b):\n",
    "    return math.ceil(a/b)\n",
    "\n",
    "def floor(a,b):\n",
    "    return math.floor(a/b)"
   ]
  },
  {
   "cell_type": "code",
   "execution_count": 68,
   "metadata": {},
   "outputs": [
    {
     "name": "stdout",
     "output_type": "stream",
     "text": [
      "[-] Starting search for s1 (from value 1984)\n",
      "search for s1 ended after 41665 iterations\n",
      "The value of s1 is: 43648\n"
     ]
    }
   ],
   "source": [
    "\n",
    "s1=ceil(N,(3*B))\n",
    "print (\"[-] Starting search for s1 (from value %i)\" % s1)\n",
    "\n",
    "it=1;\n",
    "while True:\n",
    "    if padding_oracle(base64_to_decimal_multiply_bytes(encrypted,pow(s1,e,N)))==True:\n",
    "        break\n",
    "    s1+=1\n",
    "    it+=1\n",
    "print(\"search for s1 ended after\",it,\"iterations\")\n",
    "print(\"The value of s1 is:\",s1)"
   ]
  },
  {
   "cell_type": "code",
   "execution_count": 69,
   "metadata": {},
   "outputs": [
    {
     "name": "stdout",
     "output_type": "stream",
     "text": [
      "[-] B2 is less than B3\n",
      "set()\n",
      "r= 15 new_a= 3614030650273344248446899708829014375416789187975666840602217433555533824 new_b= 3614071129724058525788164807768495391191938911736990912650309621591834624\n",
      "r= 16 new_a= 3854960629698138261866923112002639974586838816891993814398552043652382720 new_b= 3855001109148852539208188210942120990361988540653317886446644231688683520\n",
      "r= 17 new_a= 4095890609122933059924663438511361053230566346766622800989317211753545728 new_b= 4095931088573647337265928537450842069005716070527946873037409399789846528\n",
      "r= 18 new_a= 4336820588547727073344686841684986652400615975682949774785651821850394624 new_b= 4336861067998441350685951940624467668175765699444273846833744009886695424\n",
      "r= 19 new_a= 4577750567972521871402427168193707731044343505557578761376416989951557632 new_b= 4577791047423236148743692267133188746819493229318902833424509177987858432\n",
      "r= 20 new_a= 4818680547397315884822450571367333330214393134473905735172751600048406528 new_b= 4818721026848030162163715670306814345989542858235229807220843788084707328\n",
      "r= 21 new_a= 5059610526822110682880190897876054408858120664348534721763516768149569536 new_b= 5059651006272824960221455996815535424633270388109858793811608956185870336\n",
      "r= 22 new_a= 5300540506246904696300214301049680008028170293264861695559851378246418432 new_b= 5300541194335152988749892502228755547482451690626856874364818603877859327\n",
      "The set of possible messages is:\n",
      "{3614030650273344248446899708829014375416789187975666840602217433555533824, 3855001109148852539208188210942120990361988540653317886446644231688683520, 3614071129724058525788164807768495391191938911736990912650309621591834624, 3854960629698138261866923112002639974586838816891993814398552043652382720, 4095890609122933059924663438511361053230566346766622800989317211753545728, 4095931088573647337265928537450842069005716070527946873037409399789846528, 4336820588547727073344686841684986652400615975682949774785651821850394624, 4336861067998441350685951940624467668175765699444273846833744009886695424, 4577750567972521871402427168193707731044343505557578761376416989951557632, 4577791047423236148743692267133188746819493229318902833424509177987858432, 4818680547397315884822450571367333330214393134473905735172751600048406528, 4818721026848030162163715670306814345989542858235229807220843788084707328, 5059610526822110682880190897876054408858120664348534721763516768149569536, 5059651006272824960221455996815535424633270388109858793811608956185870336, 5300540506246904696300214301049680008028170293264861695559851378246418432, 5300541194335152988749892502228755547482451690626856874364818603877859327}\n"
     ]
    }
   ],
   "source": [
    "B2,B3=2*B,3*B\n",
    "\n",
    "if(B2>B3):\n",
    "    print(\"[-] B2 is greater than B3\")\n",
    "else:\n",
    "    print(\"[-] B2 is less than B3\")\n",
    "    \n",
    "newM=set([])\n",
    "print(newM)\n",
    "for r in range(ceil((B2*s1 - B3 + 1),N),floor(((B3-1)*s1 - B2),N) + 1):\n",
    " \n",
    "    aa = ceil(B2 + r*N,s1)                          \n",
    "    bb = floor(B3 - 1 + r*N, s1)        \n",
    "    new_a = max(B2,aa)\n",
    "    new_b = min(B3-1,bb)    \n",
    "    if(new_a<=new_b):\n",
    "       \n",
    "        newM |= set([new_a,new_b])\n",
    "   \n",
    "\n",
    "    print(\"r=\",r,\"new_a=\",new_a,\"new_b=\",new_b)\n",
    "\n",
    "\n",
    "\n",
    "print(\"The set of possible messages is:\")\n",
    "print(newM)"
   ]
  }
 ],
 "metadata": {
  "kernelspec": {
   "display_name": "Python 3",
   "language": "python",
   "name": "python3"
  },
  "language_info": {
   "codemirror_mode": {
    "name": "ipython",
    "version": 3
   },
   "file_extension": ".py",
   "mimetype": "text/x-python",
   "name": "python",
   "nbconvert_exporter": "python",
   "pygments_lexer": "ipython3",
   "version": "3.11.2"
  }
 },
 "nbformat": 4,
 "nbformat_minor": 2
}
