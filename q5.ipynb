{
 "cells": [
  {
   "cell_type": "markdown",
   "metadata": {},
   "source": [
    "### 5. \n",
    "Refer to the Bleichenbacher's attack as mentioned in paper title \"Chosen Ciphertext Attacks Against Protocols Based on the RSA Encryption Standard PKCS #1\". Follow the underlying steps:"
   ]
  },
  {
   "cell_type": "markdown",
   "metadata": {},
   "source": [
    "\n",
    "a. Generate RSA key pairs, where the public key encryption exponent “e” should be\n",
    "3. And consider the message “m” to be your roll number (all small letters). For eg\n",
    "- \"p21cs011\".\n",
    "p and q should be 128 bit prime numbers.\n"
   ]
  },
  {
   "cell_type": "code",
   "execution_count": 2,
   "metadata": {},
   "outputs": [],
   "source": [
    "m='b21cs050'"
   ]
  },
  {
   "cell_type": "markdown",
   "metadata": {},
   "source": [
    "b. Encrypt the message “m” using the RSA algorithm with PKCS1.5 padding to\n",
    "obtain ciphertext “x” (Inbuilt libraries support automatic message conversion\n",
    "followed by encryption). You can use any cryptographic hashing function for the\n",
    "same.\n"
   ]
  },
  {
   "cell_type": "code",
   "execution_count": 1,
   "metadata": {},
   "outputs": [],
   "source": [
    "from Crypto.Cipher import PKCS1_v1_5\n",
    "# pad my message\n",
    "from Crypto.PublicKey import RSA\n",
    "from Crypto.Hash import SHA\n",
    "\n",
    "\n"
   ]
  },
  {
   "cell_type": "markdown",
   "metadata": {},
   "source": [
    "c. Design a server (or function) that accepts the ciphertext, decrypts it using the\n",
    "private key and verifies the message (plaintext) has the first two bytes as 00h 01h.\n",
    "The server returns a boolean value indicating the verification results. For instance\n",
    "- If the first two bytes are anything other than 00h 01h, the server responds with\n",
    "“False” value. On the other hand, the server returns “True” value.\n"
   ]
  },
  {
   "cell_type": "code",
   "execution_count": null,
   "metadata": {},
   "outputs": [],
   "source": []
  },
  {
   "cell_type": "markdown",
   "metadata": {},
   "source": [
    "Your task is to decrypt the ciphertext “x” using the server defined in this question\n",
    "following the Bleichenbacher's attack."
   ]
  },
  {
   "cell_type": "code",
   "execution_count": null,
   "metadata": {},
   "outputs": [],
   "source": []
  }
 ],
 "metadata": {
  "kernelspec": {
   "display_name": "Python 3",
   "language": "python",
   "name": "python3"
  },
  "language_info": {
   "codemirror_mode": {
    "name": "ipython",
    "version": 3
   },
   "file_extension": ".py",
   "mimetype": "text/x-python",
   "name": "python",
   "nbconvert_exporter": "python",
   "pygments_lexer": "ipython3",
   "version": "3.11.2"
  }
 },
 "nbformat": 4,
 "nbformat_minor": 2
}
