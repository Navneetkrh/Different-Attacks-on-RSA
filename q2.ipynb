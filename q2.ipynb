{
 "cells": [
  {
   "cell_type": "markdown",
   "metadata": {},
   "source": [
    "## 2. Follow the underlying steps"
   ]
  },
  {
   "cell_type": "markdown",
   "metadata": {},
   "source": [
    "\n",
    "a. Encrypt message \"m\" using the textbook RSA algorithm to generate ciphertext\n",
    "“x”. And values for message “m”, public encryption exponent “e” and the prime\n",
    "numbers “p” & “q” are mentioned in the Excel sheet for RSA algorithm.\n"
   ]
  },
  {
   "cell_type": "code",
   "execution_count": 1,
   "metadata": {},
   "outputs": [],
   "source": [
    "m=51\n",
    "e=3\n",
    "p=1877\n",
    "q=1151\n"
   ]
  },
  {
   "cell_type": "code",
   "execution_count": 2,
   "metadata": {},
   "outputs": [
    {
     "name": "stdout",
     "output_type": "stream",
     "text": [
      "Encrypted message is:  132651\n"
     ]
    }
   ],
   "source": [
    "\n",
    "\n",
    "x=(m**e) % (p*q)\n",
    "print(\"Encrypted message is: \",x)"
   ]
  },
  {
   "cell_type": "markdown",
   "metadata": {},
   "source": [
    "b. Determine the private key.\n"
   ]
  },
  {
   "cell_type": "code",
   "execution_count": 3,
   "metadata": {},
   "outputs": [
    {
     "name": "stdout",
     "output_type": "stream",
     "text": [
      "Private key is:  1438267\n"
     ]
    }
   ],
   "source": [
    "\n",
    "import sympy\n",
    "psi=(p-1)*(q-1)\n",
    "\n",
    "d=sympy.mod_inverse(e,psi)\n",
    "print(\"Private key is: \",d)"
   ]
  },
  {
   "cell_type": "markdown",
   "metadata": {},
   "source": [
    "c. Design the decryption oracle that accepts a ciphertext and then decrypts it using\n",
    "the private key to return the corresponding plaintext.\n",
    "Note - The ciphertext \"x\" can't be provided as an input to this function.\n"
   ]
  },
  {
   "cell_type": "code",
   "execution_count": 11,
   "metadata": {},
   "outputs": [],
   "source": [
    "def decrypt(c,d,n):\n",
    "    if(c==x):\n",
    "        print(\"can't decrypt\")\n",
    "        return \n",
    "    m=(c**d) % n\n",
    "    return m"
   ]
  },
  {
   "cell_type": "markdown",
   "metadata": {},
   "source": [
    "Your task is to obtain the message \"m\" without passing \"x\" as input to the decryption\n",
    "oracle. Write proper code to show the results"
   ]
  },
  {
   "cell_type": "code",
   "execution_count": 16,
   "metadata": {},
   "outputs": [
    {
     "name": "stdout",
     "output_type": "stream",
     "text": [
      "New cypher text is:  1061208\n",
      "Decrypted message is:  102\n",
      "Original message is:  51\n"
     ]
    }
   ],
   "source": [
    "# giving x*(2**e mod n ) as input to decrypt function\n",
    "new_c= x*(2**e) % (p*q)\n",
    "print(\"New cypher text is: \",new_c)\n",
    "\n",
    "decrypted_message=decrypt(new_c,d,p*q)\n",
    "print(\"Decrypted message is: \",decrypted_message)\n",
    "\n",
    "# getting back original message from decrypted message\n",
    "original_message=decrypted_message//(2)\n",
    "print(\"Original message is: \",original_message)"
   ]
  }
 ],
 "metadata": {
  "kernelspec": {
   "display_name": "Python 3",
   "language": "python",
   "name": "python3"
  },
  "language_info": {
   "codemirror_mode": {
    "name": "ipython",
    "version": 3
   },
   "file_extension": ".py",
   "mimetype": "text/x-python",
   "name": "python",
   "nbconvert_exporter": "python",
   "pygments_lexer": "ipython3",
   "version": "3.11.2"
  }
 },
 "nbformat": 4,
 "nbformat_minor": 2
}
