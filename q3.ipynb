{
 "cells": [
  {
   "cell_type": "markdown",
   "metadata": {},
   "source": [
    "### 3. This question relates to the task of Digital Signature Verification using RSA. Please,follow the underlying steps:"
   ]
  },
  {
   "cell_type": "markdown",
   "metadata": {},
   "source": [
    "\n",
    "a. Generate RSA key pairs, where the public key encryption exponent “e” should be 3. And consider the message “m” to be your roll number (all small letters). For eg- \"p21cs011\".\n"
   ]
  },
  {
   "cell_type": "code",
   "execution_count": 196,
   "metadata": {},
   "outputs": [],
   "source": [
    "from sympy import isprime\n",
    "import random\n",
    "def randomPrimeGen(n):\n",
    "    p=\"\"\n",
    "    for i in range(3*n*n):\n",
    "        p=\"1\"\n",
    "        # random string of 1s and 0s of length n-1\n",
    "        p+=format(random.getrandbits(n-1),'0b')\n",
    "        if(isprime(int(p,2))):\n",
    "            return p\n",
    "    return False\n",
    "def GenModulus(n):\n",
    "    p=randomPrimeGen(n)\n",
    "    q=randomPrimeGen(n)\n",
    "    while(p==q):\n",
    "        q=randomPrimeGen(n)\n",
    "    return int(p,2)*int(q,2),int(p,2),int(q,2)\n",
    "\n"
   ]
  },
  {
   "cell_type": "code",
   "execution_count": 197,
   "metadata": {},
   "outputs": [
    {
     "name": "stdout",
     "output_type": "stream",
     "text": [
      "phi= 21609833313107709465530035599851302884166851268204263214416490318396237422280\n",
      "The output in base10 is:\n",
      "N= 21609833313107709465530035599851302884529482018949543439393766609142006796683\n",
      "e= 3\n",
      "d= 14406555542071806310353357066567535256111234178802842142944326878930824948187\n"
     ]
    }
   ],
   "source": [
    "from sympy import gcd\n",
    "import random\n",
    "def GenRSA(n):\n",
    "    N,p,q=GenModulus(n)\n",
    "    phi=(p-1)*(q-1)\n",
    "\n",
    "    e=3 #GIVEN\n",
    "    g = gcd(e, phi)\n",
    "    while g != 1:\n",
    "        # e = random.randrange(1, phi)\n",
    "        \n",
    "        N,p,q=GenModulus(n)\n",
    "        phi=(p-1)*(q-1)\n",
    "        g = gcd(e, phi)\n",
    "    \n",
    "    d = pow(e, -1, phi)\n",
    "    print(\"phi=\",phi)\n",
    "    return N,e,d\n",
    "\n",
    "N,e,d=GenRSA(128)\n",
    "print(\"The output in base10 is:\")\n",
    "print(\"N=\",N)\n",
    "print(\"e=\",e)\n",
    "print(\"d=\",d)\n",
    "\n",
    "        "
   ]
  },
  {
   "cell_type": "markdown",
   "metadata": {},
   "source": [
    "b. Digitally sign the message “m” using the private key with PKCS1.5 padding to\n",
    "obtain signed text “x” (Inbuilt libraries support automatic message conversion\n",
    "followed by encryption). You can use any cryptographic hashing function for the\n",
    "same.\n",
    "Note - Private key can be used only once for signing the original message.\n"
   ]
  },
  {
   "cell_type": "code",
   "execution_count": 198,
   "metadata": {},
   "outputs": [
    {
     "name": "stdout",
     "output_type": "stream",
     "text": [
      "the padded message is: b\"\\x00\\x02\\xff\\xff\\xff\\xff\\xff\\xff\\xff\\xff\\x00\\x14|\\xc9\\xeb;\\x9e\\x97\\xb0\\x8e\\xe9$\\x03\\xc6'\\xd4\\x7f\\xb4\\x1bR\\xe1`\"\n"
     ]
    }
   ],
   "source": [
    "import hashlib\n",
    "import os\n",
    "#here key_size is taken in BYTES (not bits)(32 bytes=256 bits)\n",
    "def pkcs1_v1_5_pad(message, key_size):\n",
    "\n",
    "    hash = hashlib.sha1(message).digest()\n",
    "\n",
    "\n",
    "    # Create the ASN.1 prefix for SHA-1 add only lenght included here\n",
    "    asn1 = len(hash)\n",
    "    asn1=asn1.to_bytes(asn1.bit_length()//8+1, byteorder='big')\n",
    "\n",
    "    \n",
    "    # Calculate the number of padding bytes needed\n",
    "    padding_length = key_size - len(asn1) - len(hash) - 3\n",
    "\n",
    "  \n",
    "    padding = b'\\xff' * padding_length\n",
    "\n",
    " \n",
    "    padded_message = b'\\x00\\x02' + padding + b'\\x00' + asn1 + hash \n",
    "   \n",
    "\n",
    "    return padded_message\n",
    "\n",
    "M='b21cs50'\n",
    "M=M.encode()\n",
    "print(\"the padded message is:\",pkcs1_v1_5_pad(M,32))"
   ]
  },
  {
   "cell_type": "markdown",
   "metadata": {},
   "source": [
    "# Adding padding and signing"
   ]
  },
  {
   "cell_type": "code",
   "execution_count": 199,
   "metadata": {},
   "outputs": [
    {
     "name": "stdout",
     "output_type": "stream",
     "text": [
      "The signed message is:\n",
      "b'DvEaAY3RYlA1R5wSzWhHobvFWFa42CsP/cSjMYmOv1A='\n"
     ]
    }
   ],
   "source": [
    "import base64\n",
    "def pad_and_sign(M,private_key):\n",
    "    M=M.encode()\n",
    "    M_bytes=pkcs1_v1_5_pad(M, 32)\n",
    "    M=int.from_bytes(M_bytes, byteorder='big')\n",
    "\n",
    "    N,d=private_key\n",
    "    signed_decimal=pow(M,d,N)\n",
    "\n",
    "\n",
    "\n",
    "    signed_bytes=signed_decimal.to_bytes((signed_decimal.bit_length() + 7) // 8, 'big')\n",
    "\n",
    "    signed_base64=base64.b64encode(signed_bytes)\n",
    "    return signed_base64\n",
    "\n",
    "M='b21cs050'\n",
    "\n",
    "signed=pad_and_sign(M,(N,d))\n",
    "print(\"The signed message is:\")\n",
    "print(signed)\n",
    "\n"
   ]
  },
  {
   "cell_type": "markdown",
   "metadata": {},
   "source": [
    "c. Design a server (or function) that accepts the ciphertext, authenticates the sender\n",
    "by decrypting the signed message using the public key and verifying the message\n",
    "(plaintext) as per preliminaries - “Message Verification”. The server returns a\n",
    "boolean value indicating the verification results. For instance - If the format is not\n",
    "valid, the server responds with “False” value. On the other hand, if the format is\n",
    "valid, the server returns “True”.\n",
    "That is, there exists a PKCS Padding oracle to tell you if the padding of a message is valid or not.\n"
   ]
  },
  {
   "cell_type": "code",
   "execution_count": 200,
   "metadata": {},
   "outputs": [],
   "source": [
    "def decrypt(signed_base64,public_key):\n",
    "    signed_bytes=base64.b64decode(signed_base64)\n",
    "    signed_decimal=int.from_bytes(signed_bytes, 'big')\n",
    "    \n",
    "    N,e=public_key\n",
    "    M=pow(signed_decimal,e,N)\n",
    "\n",
    "    M_bytes=M.to_bytes((M.bit_length() + 7) // 8, 'big')\n",
    "    if(len(M_bytes)<32):\n",
    "        M_bytes=bytes(32-len(M_bytes))+M_bytes\n",
    "    return M_bytes\n",
    "\n",
    "\n",
    "def pkcs1_v1_5_verify(padded_message, key_size):\n",
    "    # Check the initial bytes\n",
    "    if padded_message[:2] != b'\\x00\\x02':\n",
    "        return False\n",
    "\n",
    "    separator_index = padded_message.find(b'\\x00', 2)\n",
    "\n",
    "    # Check if the separator was found and if it's in the correct position\n",
    "    if separator_index < 0 :\n",
    "        try:\n",
    "            asn1=padded_message[separator_index+1]\n",
    "            hash=padded_message[separator_index+2:]\n",
    "            if(len(hash)==asn1.to_bytes(asn1.bit_length()//8+1, byteorder='big')):\n",
    "                return False\n",
    "        except:\n",
    "            return False\n",
    "        return False\n",
    "\n",
    "    return True\n"
   ]
  },
  {
   "cell_type": "code",
   "execution_count": 201,
   "metadata": {},
   "outputs": [
    {
     "name": "stdout",
     "output_type": "stream",
     "text": [
      "The result of the padding oracle on original signed message is:\n",
      "True\n"
     ]
    }
   ],
   "source": [
    "def padding_oracle(Cyphertext):\n",
    "    \n",
    "    decrypted=decrypt(Cyphertext,(N,e))[:32]\n",
    "\n",
    "    veri=pkcs1_v1_5_verify(decrypted, 32)\n",
    "    return veri\n",
    "\n",
    "print(\"The result of the padding oracle on original signed message is:\")\n",
    "\n",
    "result=padding_oracle(signed)   \n",
    "print(result)"
   ]
  },
  {
   "cell_type": "markdown",
   "metadata": {},
   "source": [
    "Your task is to generate another ciphertext that passes the PKCS padding oracle\n",
    "verification. Importantly, the direct use of both public & private keys is prohibited. The\n",
    "task should be accomplished using only the PKCS padding oracle"
   ]
  },
  {
   "cell_type": "code",
   "execution_count": 202,
   "metadata": {},
   "outputs": [],
   "source": [
    "def base64_to_decimal_multiply_bytes(signed_base64,num):\n",
    "    signed_bytes=base64.b64decode(signed_base64)\n",
    "    signed_decimal=int.from_bytes(signed_bytes, 'big')\n",
    "    signed_decimal=((signed_decimal%N)*(num%N))%N\n",
    "    signed_bytes=signed_decimal.to_bytes((signed_decimal.bit_length() + 7) // 8, 'big')\n",
    "    signed_base64=base64.b64encode(signed_bytes)\n",
    "    return signed_base64\n"
   ]
  },
  {
   "cell_type": "code",
   "execution_count": 203,
   "metadata": {},
   "outputs": [
    {
     "name": "stdout",
     "output_type": "stream",
     "text": [
      "The other cyphertext which passes the padding oracle is: b'LgHquYeWbQnjEJLCACA7Q5iIkbiajOmbwktxadNr64c='\n"
     ]
    }
   ],
   "source": [
    "# multiply the cyphertext by random number\n",
    "M='b21cs050'\n",
    "Signedmessage=pad_and_sign(M,(N,d))\n",
    "\n",
    "\n",
    "num=2\n",
    "other_signed_message=base64_to_decimal_multiply_bytes(Signedmessage,num)\n",
    "while(padding_oracle(other_signed_message)==False):\n",
    "    num+=1\n",
    "    other_signed_message=base64_to_decimal_multiply_bytes(Signedmessage,num)\n",
    "print(\"The other cyphertext which passes the padding oracle is:\",other_signed_message)\n"
   ]
  },
  {
   "cell_type": "code",
   "execution_count": 204,
   "metadata": {},
   "outputs": [
    {
     "name": "stdout",
     "output_type": "stream",
     "text": [
      "The actual signed message is: b'DvEaAY3RYlA1R5wSzWhHobvFWFa42CsP/cSjMYmOv1A='\n",
      "The other signed message is: b'LgHquYeWbQnjEJLCACA7Q5iIkbiajOmbwktxadNr64c='\n",
      "The other signed message is different from the actual signed message\n"
     ]
    }
   ],
   "source": [
    "# actual signed message\n",
    "print(\"The actual signed message is:\",Signedmessage)\n",
    "\n",
    "#the other signed message is \n",
    "print(\"The other signed message is:\",other_signed_message)\n",
    "\n",
    "if(Signedmessage!=other_signed_message):\n",
    "    print(\"The other signed message is different from the actual signed message\")\n",
    "   "
   ]
  },
  {
   "cell_type": "code",
   "execution_count": 205,
   "metadata": {},
   "outputs": [
    {
     "name": "stdout",
     "output_type": "stream",
     "text": [
      "The decryption of the other signed message is 0002151f643ca51cccbed0de96815c1c944b84c37b006cd336f5ddc4575b84d6\n"
     ]
    }
   ],
   "source": [
    "# decryption of the other cyphertext\n",
    "print(\"The decryption of the other signed message is\",decrypt(other_signed_message,(N,e)).hex())"
   ]
  }
 ],
 "metadata": {
  "kernelspec": {
   "display_name": "Python 3",
   "language": "python",
   "name": "python3"
  },
  "language_info": {
   "codemirror_mode": {
    "name": "ipython",
    "version": 3
   },
   "file_extension": ".py",
   "mimetype": "text/x-python",
   "name": "python",
   "nbconvert_exporter": "python",
   "pygments_lexer": "ipython3",
   "version": "3.11.2"
  }
 },
 "nbformat": 4,
 "nbformat_minor": 2
}
