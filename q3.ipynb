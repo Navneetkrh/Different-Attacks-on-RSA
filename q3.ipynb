{
 "cells": [
  {
   "cell_type": "markdown",
   "metadata": {},
   "source": [
    "### 3. This question relates to the task of Digital Signature Verification using RSA. Please,follow the underlying steps:"
   ]
  },
  {
   "cell_type": "markdown",
   "metadata": {},
   "source": [
    "\n",
    "a. Generate RSA key pairs, where the public key encryption exponent “e” should be 3. And consider the message “m” to be your roll number (all small letters). For eg- \"p21cs011\".\n"
   ]
  },
  {
   "cell_type": "code",
   "execution_count": 1,
   "metadata": {},
   "outputs": [],
   "source": [
    "from sympy import isprime\n",
    "import random\n",
    "def randomPrimeGen(n):\n",
    "    p=\"\"\n",
    "    for i in range(3*n*n):\n",
    "        p=\"1\"\n",
    "        # random string of 1s and 0s of length n-1\n",
    "        p+=format(random.getrandbits(n-1),'0b')\n",
    "        if(isprime(int(p,2))):\n",
    "            return p\n",
    "    return False\n",
    "def GenModulus(n):\n",
    "    p=randomPrimeGen(n)\n",
    "    q=randomPrimeGen(n)\n",
    "    while(p==q):\n",
    "        q=randomPrimeGen(n)\n",
    "    return int(p,2)*int(q,2),int(p,2),int(q,2)\n",
    "\n",
    "# N,p,q=GenModulus(512)\n",
    "\n",
    "# print(\"The output in base10 is:\")\n",
    "# print(\"N=\",N)\n",
    "# print(\"p=\",p)\n",
    "# print(\"q=\",q)"
   ]
  },
  {
   "cell_type": "code",
   "execution_count": 5,
   "metadata": {},
   "outputs": [
    {
     "name": "stdout",
     "output_type": "stream",
     "text": [
      "phi= 628592134224257406714487094916283168090296070355296518291497295571355743096\n",
      "The output in base10 is:\n",
      "N= 628592134224257406714487094916283168237507598651646301724670326291196763219\n",
      "e= 3\n",
      "d= 419061422816171604476324729944188778726864046903531012194331530380903828731\n"
     ]
    }
   ],
   "source": [
    "from sympy import gcd\n",
    "import random\n",
    "def GenRSA(n):\n",
    "    N,p,q=GenModulus(n)\n",
    "    phi=(p-1)*(q-1)\n",
    "    # Choose an integer e such that 1 < e < phi and gcd(e, phi) = 1\n",
    "    # e = random.randrange(1, phi)\n",
    "    e=3 #GIVEN\n",
    "    g = gcd(e, phi)\n",
    "    while g != 1:\n",
    "        # e = random.randrange(1, phi)\n",
    "        g = gcd(e, phi)\n",
    "        N,p,q=GenModulus(n)\n",
    "        phi=(p-1)*(q-1)\n",
    "    \n",
    "    # d ≡ e^(-1) (mod phi) [d is the modular multiplicative inverse of e modulo phi]\n",
    "    d = pow(e, -1, phi)\n",
    "    print(\"phi=\",phi)\n",
    "    return N,e,d\n",
    "\n",
    "N,e,d=GenRSA(128)\n",
    "print(\"The output in base10 is:\")\n",
    "print(\"N=\",N)\n",
    "print(\"e=\",e)\n",
    "print(\"d=\",d)\n",
    "\n",
    "        "
   ]
  },
  {
   "cell_type": "markdown",
   "metadata": {},
   "source": [
    "b. Digitally sign the message “m” using the private key with PKCS1.5 padding to\n",
    "obtain signed text “x” (Inbuilt libraries support automatic message conversion\n",
    "followed by encryption). You can use any cryptographic hashing function for the\n",
    "same.\n",
    "Note - Private key can be used only once for signing the original message.\n"
   ]
  },
  {
   "cell_type": "code",
   "execution_count": 6,
   "metadata": {},
   "outputs": [
    {
     "name": "stdout",
     "output_type": "stream",
     "text": [
      "Padded message is:\n",
      "b'\\x00\\x02\\xff\\xff\\xff\\xff\\xff\\xff\\xff\\xff\\xff\\xff\\xff\\xff\\xff\\xff\\xff\\xff\\xff\\xff\\xff\\xff\\xff\\xff\\xff\\xff\\xff\\xff\\xff\\xff\\xff\\xff\\xff\\xff\\xff\\xff\\xff\\xff\\xff\\xff\\xff\\xff\\xff\\xff\\xff\\xff\\xff\\xff\\xff\\xff\\xff\\xff\\xff\\xff\\xff\\xff\\xff\\xff\\xff\\xff\\xff\\xff\\xff\\xff\\xff\\xff\\xff\\xff\\xff\\xff\\xff\\xff\\xff\\xff\\xff\\xff\\xff\\xff\\xff\\xff\\xff\\xff\\xff\\xff\\xff\\xff\\xff\\xff\\xff\\xff\\xff\\xff\\xff\\xff\\xff\\xff\\xff\\xff\\xff\\xff\\xff\\xff\\xff\\xff\\xff\\xff\\xff\\xff\\xff\\xff\\xff\\xff\\xff\\xff\\xff\\xff\\xff\\xff\\xff\\xff\\xff\\xff\\xff\\xff\\xff\\xff\\xff\\xff\\xff\\xff\\xff\\xff\\xff\\xff\\xff\\xff\\xff\\xff\\xff\\xff\\xff\\xff\\xff\\xff\\xff\\xff\\xff\\xff\\xff\\xff\\xff\\xff\\xff\\xff\\xff\\xff\\xff\\xff\\xff\\xff\\xff\\xff\\xff\\xff\\xff\\xff\\xff\\xff\\xff\\xff\\xff\\xff\\xff\\xff\\xff\\xff\\xff\\xff\\xff\\xff\\xff\\xff\\xff\\xff\\xff\\xff\\xff\\xff\\xff\\xff\\xff\\xff\\xff\\xff\\xff\\xff\\xff\\xff\\xff\\xff\\xff\\xff\\xff\\xff\\xff\\xff\\xff\\xff\\xff\\xff\\xff\\xff\\xff\\xff\\xff\\xff\\xff\\xff\\xff\\xff\\xff\\xff\\xff\\xff\\xff\\xff\\xff\\xff\\xff\\xff\\xff\\xff\\xff\\xff\\xff\\xff\\xff\\xff\\xff\\xff\\xff\\xff\\xff\\xff\\xff\\xff\\xff\\xff\\xff\\xff\\xff\\xff\\xff\\xff\\xff\\xff\\xff\\xff\\xff\\xff\\xff\\xff\\xff\\xff\\xff\\xff\\xff\\xff\\xff\\xff\\xff\\xff\\xff\\xff\\xff\\xff\\xff\\xff\\xff\\xff\\xff\\xff\\xff\\xff\\xff\\xff\\xff\\xff\\xff\\xff\\xff\\xff\\xff\\xff\\xff\\xff\\xff\\xff\\xff\\xff\\xff\\xff\\xff\\xff\\xff\\xff\\xff\\xff\\xff\\xff\\xff\\xff\\xff\\xff\\xff\\xff\\xff\\xff\\xff\\xff\\xff\\xff\\xff\\xff\\xff\\xff\\xff\\xff\\xff\\xff\\xff\\xff\\xff\\xff\\xff\\xff\\xff\\xff\\xff\\xff\\xff\\xff\\xff\\xff\\xff\\xff\\xff\\xff\\xff\\xff\\xff\\xff\\xff\\xff\\xff\\xff\\xff\\xff\\xff\\xff\\xff\\xff\\xff\\xff\\xff\\xff\\xff\\xff\\xff\\xff\\xff\\xff\\xff\\xff\\xff\\xff\\xff\\xff\\xff\\xff\\xff\\xff\\xff\\xff\\xff\\xff\\xff\\xff\\xff\\xff\\xff\\xff\\xff\\xff\\xff\\xff\\xff\\xff\\xff\\xff\\xff\\xff\\xff\\xff\\xff\\xff\\xff\\xff\\xff\\xff\\xff\\xff\\xff\\xff\\xff\\xff\\xff\\xff\\xff\\xff\\xff\\xff\\xff\\xff\\xff\\xff\\xff\\xff\\xff\\xff\\xff\\xff\\xff\\xff\\xff\\xff\\xff\\xff\\xff\\xff\\xff\\xff\\xff\\xff\\xff\\xff\\xff\\xff\\xff\\xff\\xff\\xff\\xff\\xff\\xff\\xff\\xff\\xff\\xff\\xff\\x00010\\r\\x06\\t`\\x86H\\x01e\\x03\\x04\\x02\\x01\\x05\\x00\\x04 1_[\\xdbv\\xd0x\\xc4;\\x8a\\xc0\\x06NJ\\x01da+\\x1f\\xcew\\xc8i4[\\xfc\\x94\\xc7X\\x94\\xed\\xd3'\n",
      "Padded message in integer is:\n",
      "47808328922110863038257722963712663997495922045015737017100531766538417418131597450965582821731455612528538820546230903838542485268514722012172062126985104886442122339342193527543407751512926558582827911919675272813857368746843539993545594070949704780432490938070848269864687289739316213125670369732575790711377211466146291470958204507000470303325475468421484495682984761492570114866900628710062356950096232294553748458171291249137728916373224150367575459298204407455829638443378921585106684159834537732065617522443376285336289148580787315545109184279941614745414406419439340983245771808426427529720871329903928391592705043636121101031425569767193998204170269937028421126396286819977112206824573360670612458966920858373291698020590307311223930972272257314801228645224033687634561963491434700765210921792656726008145251223521697434677221204989426625803174519681518894025223156119829585493883231574233461637773707714056560976028878316073476313780452046881062170710320294216296076955993473394751092610532752275930017125960964211044116385183079521128119242930077205127550047159648719155287969528309978940593285216094212620598268974328998488289769583147148041589547941813493696211482603427670350342836915655771078512230787913738415571\n",
      "Padded message in bytes is:\n",
      "b'\\x02\\xff\\xff\\xff\\xff\\xff\\xff\\xff\\xff\\xff\\xff\\xff\\xff\\xff\\xff\\xff\\xff\\xff\\xff\\xff\\xff\\xff\\xff\\xff\\xff\\xff\\xff\\xff\\xff\\xff\\xff\\xff\\xff\\xff\\xff\\xff\\xff\\xff\\xff\\xff\\xff\\xff\\xff\\xff\\xff\\xff\\xff\\xff\\xff\\xff\\xff\\xff\\xff\\xff\\xff\\xff\\xff\\xff\\xff\\xff\\xff\\xff\\xff\\xff\\xff\\xff\\xff\\xff\\xff\\xff\\xff\\xff\\xff\\xff\\xff\\xff\\xff\\xff\\xff\\xff\\xff\\xff\\xff\\xff\\xff\\xff\\xff\\xff\\xff\\xff\\xff\\xff\\xff\\xff\\xff\\xff\\xff\\xff\\xff\\xff\\xff\\xff\\xff\\xff\\xff\\xff\\xff\\xff\\xff\\xff\\xff\\xff\\xff\\xff\\xff\\xff\\xff\\xff\\xff\\xff\\xff\\xff\\xff\\xff\\xff\\xff\\xff\\xff\\xff\\xff\\xff\\xff\\xff\\xff\\xff\\xff\\xff\\xff\\xff\\xff\\xff\\xff\\xff\\xff\\xff\\xff\\xff\\xff\\xff\\xff\\xff\\xff\\xff\\xff\\xff\\xff\\xff\\xff\\xff\\xff\\xff\\xff\\xff\\xff\\xff\\xff\\xff\\xff\\xff\\xff\\xff\\xff\\xff\\xff\\xff\\xff\\xff\\xff\\xff\\xff\\xff\\xff\\xff\\xff\\xff\\xff\\xff\\xff\\xff\\xff\\xff\\xff\\xff\\xff\\xff\\xff\\xff\\xff\\xff\\xff\\xff\\xff\\xff\\xff\\xff\\xff\\xff\\xff\\xff\\xff\\xff\\xff\\xff\\xff\\xff\\xff\\xff\\xff\\xff\\xff\\xff\\xff\\xff\\xff\\xff\\xff\\xff\\xff\\xff\\xff\\xff\\xff\\xff\\xff\\xff\\xff\\xff\\xff\\xff\\xff\\xff\\xff\\xff\\xff\\xff\\xff\\xff\\xff\\xff\\xff\\xff\\xff\\xff\\xff\\xff\\xff\\xff\\xff\\xff\\xff\\xff\\xff\\xff\\xff\\xff\\xff\\xff\\xff\\xff\\xff\\xff\\xff\\xff\\xff\\xff\\xff\\xff\\xff\\xff\\xff\\xff\\xff\\xff\\xff\\xff\\xff\\xff\\xff\\xff\\xff\\xff\\xff\\xff\\xff\\xff\\xff\\xff\\xff\\xff\\xff\\xff\\xff\\xff\\xff\\xff\\xff\\xff\\xff\\xff\\xff\\xff\\xff\\xff\\xff\\xff\\xff\\xff\\xff\\xff\\xff\\xff\\xff\\xff\\xff\\xff\\xff\\xff\\xff\\xff\\xff\\xff\\xff\\xff\\xff\\xff\\xff\\xff\\xff\\xff\\xff\\xff\\xff\\xff\\xff\\xff\\xff\\xff\\xff\\xff\\xff\\xff\\xff\\xff\\xff\\xff\\xff\\xff\\xff\\xff\\xff\\xff\\xff\\xff\\xff\\xff\\xff\\xff\\xff\\xff\\xff\\xff\\xff\\xff\\xff\\xff\\xff\\xff\\xff\\xff\\xff\\xff\\xff\\xff\\xff\\xff\\xff\\xff\\xff\\xff\\xff\\xff\\xff\\xff\\xff\\xff\\xff\\xff\\xff\\xff\\xff\\xff\\xff\\xff\\xff\\xff\\xff\\xff\\xff\\xff\\xff\\xff\\xff\\xff\\xff\\xff\\xff\\xff\\xff\\xff\\xff\\xff\\xff\\xff\\xff\\xff\\xff\\xff\\xff\\xff\\xff\\xff\\xff\\xff\\xff\\xff\\xff\\xff\\xff\\xff\\xff\\xff\\xff\\xff\\xff\\xff\\xff\\xff\\xff\\xff\\xff\\xff\\xff\\xff\\xff\\xff\\xff\\xff\\xff\\xff\\x00010\\r\\x06\\t`\\x86H\\x01e\\x03\\x04\\x02\\x01\\x05\\x00\\x04 1_[\\xdbv\\xd0x\\xc4;\\x8a\\xc0\\x06NJ\\x01da+\\x1f\\xcew\\xc8i4[\\xfc\\x94\\xc7X\\x94\\xed\\xd3'\n"
     ]
    }
   ],
   "source": [
    "import hashlib\n",
    "import os\n",
    "\n",
    "def pkcs1_v1_5_pad(message, key_size):\n",
    "    # Calculate the hash of the message\n",
    "    hash = hashlib.sha256(message).digest()\n",
    "\n",
    "    # Create the ASN.1 prefix for SHA-256\n",
    "    prefix = bytes.fromhex('3031300d060960864801650304020105000420')\n",
    "\n",
    "    # Calculate the number of padding bytes needed\n",
    "    padding_length = key_size - len(prefix) - len(hash) - 3\n",
    "\n",
    "    # Create the padding\n",
    "    padding = b'\\xff' * padding_length\n",
    "\n",
    "    # Concatenate everything together to form the padded message\n",
    "    padded_message = b'\\x00\\x02' + padding + b'\\x00' + prefix + hash\n",
    "\n",
    "    return padded_message\n",
    "\n",
    "pad_M = pkcs1_v1_5_pad(b'Hello, world!', 512)\n",
    "print(\"Padded message is:\")\n",
    "print(pad_M)\n",
    "# convert to integer\n",
    "M = int.from_bytes(pad_M, byteorder='big')\n",
    "print(\"Padded message in integer is:\")\n",
    "print(M)\n",
    "\n",
    "# convert m to bytes\n",
    "m = M.to_bytes((M.bit_length() + 7) // 8, byteorder='big')\n",
    "print(\"Padded message in bytes is:\")\n",
    "print(m)"
   ]
  },
  {
   "cell_type": "code",
   "execution_count": null,
   "metadata": {},
   "outputs": [],
   "source": [
    "def encrypt(plainText,publicKey):\n",
    "    plainText=int.from_bytes(plainText, byteorder='big')\n",
    "    N,e=publicKey\n",
    "    return pow(plainText,e,N)\n",
    "def decrypt(cipherText,privateKey):\n",
    "    N,d=privateKey\n",
    "    plainText=pow(cipherText,d,N)\n",
    "    plainText=plainText.to_bytes((plainText.bit_length() + 7) // 8, byteorder='big')\n",
    "    plainText=plainText.decode('utf-8')\n",
    "    return plainText\n"
   ]
  },
  {
   "cell_type": "code",
   "execution_count": null,
   "metadata": {},
   "outputs": [
    {
     "name": "stdout",
     "output_type": "stream",
     "text": [
      "True\n"
     ]
    }
   ],
   "source": [
    "def pkcs1_v1_5_verify(padded_message, key_size):\n",
    "    # Check the initial bytes\n",
    "    if padded_message[:2] != b'\\x00\\x01':\n",
    "        return False\n",
    "\n",
    "    # Find the position of the 00h byte that separates the padding from the prefix and hash\n",
    "    separator_index = padded_message.find(b'\\x00', 2)\n",
    "\n",
    "    # Check if the separator was found and if it's in the correct position\n",
    "    if separator_index < 0 or separator_index > key_size - len(hashlib.sha256().digest()) - len(bytes.fromhex('3031300d060960864801650304020105000420')) - 1:\n",
    "        return False\n",
    "\n",
    "    # Check the padding\n",
    "    padding = padded_message[2:separator_index]\n",
    "    if padding != b'\\xff' * len(padding):\n",
    "        return False\n",
    "\n",
    "    # If all checks passed, the padding is valid\n",
    "    return True\n",
    "\n",
    "# Test the function\n",
    "print(pkcs1_v1_5_verify(pad_M, 512))  # Should print: True"
   ]
  },
  {
   "cell_type": "markdown",
   "metadata": {},
   "source": [
    "c. Design a server (or function) that accepts the ciphertext, authenticates the sender\n",
    "by decrypting the signed message using the public key and verifying the message\n",
    "(plaintext) as per preliminaries - “Message Verification”. The server returns a\n",
    "boolean value indicating the verification results. For instance - If the format is not\n",
    "valid, the server responds with “False” value. On the other hand, if the format is\n",
    "valid, the server returns “True”.\n",
    "That is, there exists a PKCS Padding oracle to tell you if the padding of a message is valid or not.\n"
   ]
  },
  {
   "cell_type": "code",
   "execution_count": null,
   "metadata": {},
   "outputs": [],
   "source": [
    "def padding_format_oracle(signature, public_key):\n",
    "    try:\n",
    "        # Verify the signature with the public key\n",
    "        public_key.verify(\n",
    "            signature,\n",
    "            message.encode(),\n",
    "            padding.PSS(\n",
    "                mgf=padding.MGF1(hashes.SHA256()),\n",
    "                salt_length=padding.PSS.MAX_LENGTH\n",
    "            ),\n",
    "            hashes.SHA256()\n",
    "        )\n",
    "        return True\n",
    "    except:\n",
    "        return False"
   ]
  },
  {
   "cell_type": "markdown",
   "metadata": {},
   "source": [
    "Your task is to generate another ciphertext that passes the PKCS padding oracle\n",
    "verification. Importantly, the direct use of both public & private keys is prohibited. The\n",
    "task should be accomplished using only the PKCS padding oracle"
   ]
  }
 ],
 "metadata": {
  "kernelspec": {
   "display_name": "Python 3",
   "language": "python",
   "name": "python3"
  },
  "language_info": {
   "codemirror_mode": {
    "name": "ipython",
    "version": 3
   },
   "file_extension": ".py",
   "mimetype": "text/x-python",
   "name": "python",
   "nbconvert_exporter": "python",
   "pygments_lexer": "ipython3",
   "version": "3.11.2"
  }
 },
 "nbformat": 4,
 "nbformat_minor": 2
}
